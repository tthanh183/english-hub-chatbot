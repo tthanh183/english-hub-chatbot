{
 "cells": [
  {
   "cell_type": "code",
   "execution_count": 14,
   "metadata": {
    "_cell_guid": "b1076dfc-b9ad-4769-8c92-a6c4dae69d19",
    "_uuid": "8f2839f25d086af736a60e9eeb907d3b93b6e0e5",
    "execution": {
     "iopub.execute_input": "2025-03-26T06:00:20.245259Z",
     "iopub.status.busy": "2025-03-26T06:00:20.244937Z",
     "iopub.status.idle": "2025-03-26T06:00:20.249694Z",
     "shell.execute_reply": "2025-03-26T06:00:20.248620Z",
     "shell.execute_reply.started": "2025-03-26T06:00:20.245235Z"
    },
    "trusted": true
   },
   "outputs": [],
   "source": [
    "import nltk\n",
    "from nltk.stem.lancaster import LancasterStemmer\n",
    "import numpy as np\n",
    "import random\n",
    "import json\n",
    "from tensorflow.keras.models import Sequential\n",
    "from tensorflow.keras.layers import Dense\n",
    "from tensorflow.keras.optimizers import Adam\n",
    "from sklearn.preprocessing import LabelEncoder "
   ]
  },
  {
   "cell_type": "code",
   "execution_count": 15,
   "metadata": {
    "execution": {
     "iopub.execute_input": "2025-03-26T06:00:20.251307Z",
     "iopub.status.busy": "2025-03-26T06:00:20.250904Z",
     "iopub.status.idle": "2025-03-26T06:00:20.299352Z",
     "shell.execute_reply": "2025-03-26T06:00:20.298467Z",
     "shell.execute_reply.started": "2025-03-26T06:00:20.251276Z"
    },
    "trusted": true
   },
   "outputs": [],
   "source": [
    "# Khởi tạo Stemmer\n",
    "stemmer = LancasterStemmer()\n",
    "\n",
    "# Đọc tệp intents.json\n",
    "with open('/kaggle/input/intents/intents.json') as json_data:\n",
    "    intents = json.load(json_data)"
   ]
  },
  {
   "cell_type": "code",
   "execution_count": 16,
   "metadata": {
    "execution": {
     "iopub.execute_input": "2025-03-26T06:00:20.301163Z",
     "iopub.status.busy": "2025-03-26T06:00:20.300867Z",
     "iopub.status.idle": "2025-03-26T06:00:23.633125Z",
     "shell.execute_reply": "2025-03-26T06:00:23.632446Z",
     "shell.execute_reply.started": "2025-03-26T06:00:20.301143Z"
    },
    "trusted": true
   },
   "outputs": [],
   "source": [
    "words = []\n",
    "classes = []\n",
    "documents = []\n",
    "stop_words = ['?', 'a', 'an', 'the']\n",
    "\n",
    "# Process the intents data\n",
    "for intent in intents['intents']:\n",
    "    for pattern in intent['patterns']:\n",
    "        w = nltk.word_tokenize(pattern)\n",
    "        words.extend(w)\n",
    "        documents.append((w, intent['tag']))\n",
    "        if intent['tag'] not in classes:\n",
    "            classes.append(intent['tag'])\n",
    "\n",
    "# Stem words and remove duplicates\n",
    "words = [stemmer.stem(w.lower()) for w in words if w not in stop_words]\n",
    "words = sorted(list(set(words)))\n",
    "\n",
    "# Sort classes\n",
    "classes = sorted(list(set(classes)))"
   ]
  },
  {
   "cell_type": "code",
   "execution_count": 17,
   "metadata": {
    "execution": {
     "iopub.execute_input": "2025-03-26T06:00:23.634623Z",
     "iopub.status.busy": "2025-03-26T06:00:23.634380Z",
     "iopub.status.idle": "2025-03-26T06:00:36.359561Z",
     "shell.execute_reply": "2025-03-26T06:00:36.358633Z",
     "shell.execute_reply.started": "2025-03-26T06:00:23.634603Z"
    },
    "trusted": true
   },
   "outputs": [],
   "source": [
    "# Create training set\n",
    "training = []\n",
    "output_empty = [0] * len(classes)\n",
    "\n",
    "for doc in documents:\n",
    "    bag = []\n",
    "    pattern_words = doc[0]\n",
    "    pattern_words = [stemmer.stem(word.lower()) for word in pattern_words]\n",
    "\n",
    "    for w in words:\n",
    "        bag.append(1) if w in pattern_words else bag.append(0)\n",
    "\n",
    "    output_row = list(output_empty)\n",
    "    output_row[classes.index(doc[1])] = 1\n",
    "\n",
    "    training.append([bag, output_row])\n",
    "\n",
    "random.shuffle(training)\n",
    "training = np.array(training, dtype=object)"
   ]
  },
  {
   "cell_type": "code",
   "execution_count": 18,
   "metadata": {
    "execution": {
     "iopub.execute_input": "2025-03-26T06:00:36.360648Z",
     "iopub.status.busy": "2025-03-26T06:00:36.360380Z",
     "iopub.status.idle": "2025-03-26T06:00:45.742468Z",
     "shell.execute_reply": "2025-03-26T06:00:45.741826Z",
     "shell.execute_reply.started": "2025-03-26T06:00:36.360626Z"
    },
    "trusted": true
   },
   "outputs": [],
   "source": [
    "# Split data into X and Y\n",
    "train_x = np.array([i[0] for i in training])\n",
    "train_y = np.array([i[1] for i in training])\n",
    "\n",
    "# Build the model using Keras\n",
    "model = Sequential()\n",
    "model.add(Dense(128, input_dim=len(train_x[0]), activation='relu'))\n",
    "model.add(Dense(64, activation='relu'))\n",
    "model.add(Dense(len(train_y[0]), activation='softmax'))\n",
    "\n",
    "model.compile(loss='categorical_crossentropy', optimizer=Adam(), metrics=['accuracy'])"
   ]
  },
  {
   "cell_type": "code",
   "execution_count": 19,
   "metadata": {
    "execution": {
     "iopub.execute_input": "2025-03-26T06:00:45.743473Z",
     "iopub.status.busy": "2025-03-26T06:00:45.743214Z",
     "iopub.status.idle": "2025-03-26T06:07:05.846490Z",
     "shell.execute_reply": "2025-03-26T06:07:05.845546Z",
     "shell.execute_reply.started": "2025-03-26T06:00:45.743453Z"
    },
    "trusted": true
   },
   "outputs": [
    {
     "name": "stdout",
     "output_type": "stream",
     "text": [
      "Epoch 1/100\n",
      "\u001b[1m2375/2375\u001b[0m \u001b[32m━━━━━━━━━━━━━━━━━━━━\u001b[0m\u001b[37m\u001b[0m \u001b[1m6s\u001b[0m 1ms/step - accuracy: 6.6492e-04 - loss: 8.7395\n",
      "Epoch 2/100\n",
      "\u001b[1m2375/2375\u001b[0m \u001b[32m━━━━━━━━━━━━━━━━━━━━\u001b[0m\u001b[37m\u001b[0m \u001b[1m4s\u001b[0m 2ms/step - accuracy: 0.0553 - loss: 7.1584\n",
      "Epoch 3/100\n",
      "\u001b[1m2375/2375\u001b[0m \u001b[32m━━━━━━━━━━━━━━━━━━━━\u001b[0m\u001b[37m\u001b[0m \u001b[1m4s\u001b[0m 2ms/step - accuracy: 0.3410 - loss: 4.2306\n",
      "Epoch 4/100\n",
      "\u001b[1m2375/2375\u001b[0m \u001b[32m━━━━━━━━━━━━━━━━━━━━\u001b[0m\u001b[37m\u001b[0m \u001b[1m4s\u001b[0m 2ms/step - accuracy: 0.5280 - loss: 2.2932\n",
      "Epoch 5/100\n",
      "\u001b[1m2375/2375\u001b[0m \u001b[32m━━━━━━━━━━━━━━━━━━━━\u001b[0m\u001b[37m\u001b[0m \u001b[1m4s\u001b[0m 2ms/step - accuracy: 0.6353 - loss: 1.3228\n",
      "Epoch 6/100\n",
      "\u001b[1m2375/2375\u001b[0m \u001b[32m━━━━━━━━━━━━━━━━━━━━\u001b[0m\u001b[37m\u001b[0m \u001b[1m4s\u001b[0m 2ms/step - accuracy: 0.6667 - loss: 0.9622\n",
      "Epoch 7/100\n",
      "\u001b[1m2375/2375\u001b[0m \u001b[32m━━━━━━━━━━━━━━━━━━━━\u001b[0m\u001b[37m\u001b[0m \u001b[1m4s\u001b[0m 2ms/step - accuracy: 0.6665 - loss: 0.8694\n",
      "Epoch 8/100\n",
      "\u001b[1m2375/2375\u001b[0m \u001b[32m━━━━━━━━━━━━━━━━━━━━\u001b[0m\u001b[37m\u001b[0m \u001b[1m4s\u001b[0m 2ms/step - accuracy: 0.6753 - loss: 0.8017\n",
      "Epoch 9/100\n",
      "\u001b[1m2375/2375\u001b[0m \u001b[32m━━━━━━━━━━━━━━━━━━━━\u001b[0m\u001b[37m\u001b[0m \u001b[1m4s\u001b[0m 2ms/step - accuracy: 0.6768 - loss: 0.7787\n",
      "Epoch 10/100\n",
      "\u001b[1m2375/2375\u001b[0m \u001b[32m━━━━━━━━━━━━━━━━━━━━\u001b[0m\u001b[37m\u001b[0m \u001b[1m4s\u001b[0m 2ms/step - accuracy: 0.6797 - loss: 0.7359\n",
      "Epoch 11/100\n",
      "\u001b[1m2375/2375\u001b[0m \u001b[32m━━━━━━━━━━━━━━━━━━━━\u001b[0m\u001b[37m\u001b[0m \u001b[1m4s\u001b[0m 2ms/step - accuracy: 0.6811 - loss: 0.7250\n",
      "Epoch 12/100\n",
      "\u001b[1m2375/2375\u001b[0m \u001b[32m━━━━━━━━━━━━━━━━━━━━\u001b[0m\u001b[37m\u001b[0m \u001b[1m4s\u001b[0m 2ms/step - accuracy: 0.6790 - loss: 0.7031\n",
      "Epoch 13/100\n",
      "\u001b[1m2375/2375\u001b[0m \u001b[32m━━━━━━━━━━━━━━━━━━━━\u001b[0m\u001b[37m\u001b[0m \u001b[1m4s\u001b[0m 2ms/step - accuracy: 0.6755 - loss: 0.6959\n",
      "Epoch 14/100\n",
      "\u001b[1m2375/2375\u001b[0m \u001b[32m━━━━━━━━━━━━━━━━━━━━\u001b[0m\u001b[37m\u001b[0m \u001b[1m4s\u001b[0m 2ms/step - accuracy: 0.6736 - loss: 0.6866\n",
      "Epoch 15/100\n",
      "\u001b[1m2375/2375\u001b[0m \u001b[32m━━━━━━━━━━━━━━━━━━━━\u001b[0m\u001b[37m\u001b[0m \u001b[1m4s\u001b[0m 2ms/step - accuracy: 0.6710 - loss: 0.6768\n",
      "Epoch 16/100\n",
      "\u001b[1m2375/2375\u001b[0m \u001b[32m━━━━━━━━━━━━━━━━━━━━\u001b[0m\u001b[37m\u001b[0m \u001b[1m4s\u001b[0m 2ms/step - accuracy: 0.6795 - loss: 0.6629\n",
      "Epoch 17/100\n",
      "\u001b[1m2375/2375\u001b[0m \u001b[32m━━━━━━━━━━━━━━━━━━━━\u001b[0m\u001b[37m\u001b[0m \u001b[1m4s\u001b[0m 2ms/step - accuracy: 0.6881 - loss: 0.6402\n",
      "Epoch 18/100\n",
      "\u001b[1m2375/2375\u001b[0m \u001b[32m━━━━━━━━━━━━━━━━━━━━\u001b[0m\u001b[37m\u001b[0m \u001b[1m4s\u001b[0m 2ms/step - accuracy: 0.6785 - loss: 0.6423\n",
      "Epoch 19/100\n",
      "\u001b[1m2375/2375\u001b[0m \u001b[32m━━━━━━━━━━━━━━━━━━━━\u001b[0m\u001b[37m\u001b[0m \u001b[1m4s\u001b[0m 2ms/step - accuracy: 0.6762 - loss: 0.6420\n",
      "Epoch 20/100\n",
      "\u001b[1m2375/2375\u001b[0m \u001b[32m━━━━━━━━━━━━━━━━━━━━\u001b[0m\u001b[37m\u001b[0m \u001b[1m4s\u001b[0m 2ms/step - accuracy: 0.6840 - loss: 0.6264\n",
      "Epoch 21/100\n",
      "\u001b[1m2375/2375\u001b[0m \u001b[32m━━━━━━━━━━━━━━━━━━━━\u001b[0m\u001b[37m\u001b[0m \u001b[1m4s\u001b[0m 2ms/step - accuracy: 0.6900 - loss: 0.6106\n",
      "Epoch 22/100\n",
      "\u001b[1m2375/2375\u001b[0m \u001b[32m━━━━━━━━━━━━━━━━━━━━\u001b[0m\u001b[37m\u001b[0m \u001b[1m4s\u001b[0m 2ms/step - accuracy: 0.6852 - loss: 0.6131\n",
      "Epoch 23/100\n",
      "\u001b[1m2375/2375\u001b[0m \u001b[32m━━━━━━━━━━━━━━━━━━━━\u001b[0m\u001b[37m\u001b[0m \u001b[1m4s\u001b[0m 2ms/step - accuracy: 0.6815 - loss: 0.6225\n",
      "Epoch 24/100\n",
      "\u001b[1m2375/2375\u001b[0m \u001b[32m━━━━━━━━━━━━━━━━━━━━\u001b[0m\u001b[37m\u001b[0m \u001b[1m4s\u001b[0m 2ms/step - accuracy: 0.6866 - loss: 0.6046\n",
      "Epoch 25/100\n",
      "\u001b[1m2375/2375\u001b[0m \u001b[32m━━━━━━━━━━━━━━━━━━━━\u001b[0m\u001b[37m\u001b[0m \u001b[1m4s\u001b[0m 2ms/step - accuracy: 0.6881 - loss: 0.6029\n",
      "Epoch 26/100\n",
      "\u001b[1m2375/2375\u001b[0m \u001b[32m━━━━━━━━━━━━━━━━━━━━\u001b[0m\u001b[37m\u001b[0m \u001b[1m4s\u001b[0m 2ms/step - accuracy: 0.6852 - loss: 0.6002\n",
      "Epoch 27/100\n",
      "\u001b[1m2375/2375\u001b[0m \u001b[32m━━━━━━━━━━━━━━━━━━━━\u001b[0m\u001b[37m\u001b[0m \u001b[1m4s\u001b[0m 2ms/step - accuracy: 0.6873 - loss: 0.5918\n",
      "Epoch 28/100\n",
      "\u001b[1m2375/2375\u001b[0m \u001b[32m━━━━━━━━━━━━━━━━━━━━\u001b[0m\u001b[37m\u001b[0m \u001b[1m4s\u001b[0m 2ms/step - accuracy: 0.6900 - loss: 0.5925\n",
      "Epoch 29/100\n",
      "\u001b[1m2375/2375\u001b[0m \u001b[32m━━━━━━━━━━━━━━━━━━━━\u001b[0m\u001b[37m\u001b[0m \u001b[1m4s\u001b[0m 2ms/step - accuracy: 0.6881 - loss: 0.5910\n",
      "Epoch 30/100\n",
      "\u001b[1m2375/2375\u001b[0m \u001b[32m━━━━━━━━━━━━━━━━━━━━\u001b[0m\u001b[37m\u001b[0m \u001b[1m4s\u001b[0m 2ms/step - accuracy: 0.6887 - loss: 0.5869\n",
      "Epoch 31/100\n",
      "\u001b[1m2375/2375\u001b[0m \u001b[32m━━━━━━━━━━━━━━━━━━━━\u001b[0m\u001b[37m\u001b[0m \u001b[1m4s\u001b[0m 2ms/step - accuracy: 0.6897 - loss: 0.5862\n",
      "Epoch 32/100\n",
      "\u001b[1m2375/2375\u001b[0m \u001b[32m━━━━━━━━━━━━━━━━━━━━\u001b[0m\u001b[37m\u001b[0m \u001b[1m4s\u001b[0m 2ms/step - accuracy: 0.6841 - loss: 0.5885\n",
      "Epoch 33/100\n",
      "\u001b[1m2375/2375\u001b[0m \u001b[32m━━━━━━━━━━━━━━━━━━━━\u001b[0m\u001b[37m\u001b[0m \u001b[1m4s\u001b[0m 2ms/step - accuracy: 0.6913 - loss: 0.5832\n",
      "Epoch 34/100\n",
      "\u001b[1m2375/2375\u001b[0m \u001b[32m━━━━━━━━━━━━━━━━━━━━\u001b[0m\u001b[37m\u001b[0m \u001b[1m4s\u001b[0m 2ms/step - accuracy: 0.6883 - loss: 0.5829\n",
      "Epoch 35/100\n",
      "\u001b[1m2375/2375\u001b[0m \u001b[32m━━━━━━━━━━━━━━━━━━━━\u001b[0m\u001b[37m\u001b[0m \u001b[1m4s\u001b[0m 2ms/step - accuracy: 0.6956 - loss: 0.5702\n",
      "Epoch 36/100\n",
      "\u001b[1m2375/2375\u001b[0m \u001b[32m━━━━━━━━━━━━━━━━━━━━\u001b[0m\u001b[37m\u001b[0m \u001b[1m4s\u001b[0m 2ms/step - accuracy: 0.6826 - loss: 0.5807\n",
      "Epoch 37/100\n",
      "\u001b[1m2375/2375\u001b[0m \u001b[32m━━━━━━━━━━━━━━━━━━━━\u001b[0m\u001b[37m\u001b[0m \u001b[1m4s\u001b[0m 2ms/step - accuracy: 0.6808 - loss: 0.5878\n",
      "Epoch 38/100\n",
      "\u001b[1m2375/2375\u001b[0m \u001b[32m━━━━━━━━━━━━━━━━━━━━\u001b[0m\u001b[37m\u001b[0m \u001b[1m4s\u001b[0m 2ms/step - accuracy: 0.6878 - loss: 0.5822\n",
      "Epoch 39/100\n",
      "\u001b[1m2375/2375\u001b[0m \u001b[32m━━━━━━━━━━━━━━━━━━━━\u001b[0m\u001b[37m\u001b[0m \u001b[1m4s\u001b[0m 2ms/step - accuracy: 0.6906 - loss: 0.5746\n",
      "Epoch 40/100\n",
      "\u001b[1m2375/2375\u001b[0m \u001b[32m━━━━━━━━━━━━━━━━━━━━\u001b[0m\u001b[37m\u001b[0m \u001b[1m4s\u001b[0m 2ms/step - accuracy: 0.6931 - loss: 0.5694\n",
      "Epoch 41/100\n",
      "\u001b[1m2375/2375\u001b[0m \u001b[32m━━━━━━━━━━━━━━━━━━━━\u001b[0m\u001b[37m\u001b[0m \u001b[1m4s\u001b[0m 2ms/step - accuracy: 0.6933 - loss: 0.5613\n",
      "Epoch 42/100\n",
      "\u001b[1m2375/2375\u001b[0m \u001b[32m━━━━━━━━━━━━━━━━━━━━\u001b[0m\u001b[37m\u001b[0m \u001b[1m4s\u001b[0m 2ms/step - accuracy: 0.6918 - loss: 0.5741\n",
      "Epoch 43/100\n",
      "\u001b[1m2375/2375\u001b[0m \u001b[32m━━━━━━━━━━━━━━━━━━━━\u001b[0m\u001b[37m\u001b[0m \u001b[1m4s\u001b[0m 2ms/step - accuracy: 0.6989 - loss: 0.5588\n",
      "Epoch 44/100\n",
      "\u001b[1m2375/2375\u001b[0m \u001b[32m━━━━━━━━━━━━━━━━━━━━\u001b[0m\u001b[37m\u001b[0m \u001b[1m4s\u001b[0m 2ms/step - accuracy: 0.6915 - loss: 0.5592\n",
      "Epoch 45/100\n",
      "\u001b[1m2375/2375\u001b[0m \u001b[32m━━━━━━━━━━━━━━━━━━━━\u001b[0m\u001b[37m\u001b[0m \u001b[1m4s\u001b[0m 2ms/step - accuracy: 0.6886 - loss: 0.5687\n",
      "Epoch 46/100\n",
      "\u001b[1m2375/2375\u001b[0m \u001b[32m━━━━━━━━━━━━━━━━━━━━\u001b[0m\u001b[37m\u001b[0m \u001b[1m4s\u001b[0m 2ms/step - accuracy: 0.6921 - loss: 0.5614\n",
      "Epoch 47/100\n",
      "\u001b[1m2375/2375\u001b[0m \u001b[32m━━━━━━━━━━━━━━━━━━━━\u001b[0m\u001b[37m\u001b[0m \u001b[1m4s\u001b[0m 2ms/step - accuracy: 0.6896 - loss: 0.5644\n",
      "Epoch 48/100\n",
      "\u001b[1m2375/2375\u001b[0m \u001b[32m━━━━━━━━━━━━━━━━━━━━\u001b[0m\u001b[37m\u001b[0m \u001b[1m4s\u001b[0m 2ms/step - accuracy: 0.6936 - loss: 0.5638\n",
      "Epoch 49/100\n",
      "\u001b[1m2375/2375\u001b[0m \u001b[32m━━━━━━━━━━━━━━━━━━━━\u001b[0m\u001b[37m\u001b[0m \u001b[1m4s\u001b[0m 2ms/step - accuracy: 0.6947 - loss: 0.5551\n",
      "Epoch 50/100\n",
      "\u001b[1m2375/2375\u001b[0m \u001b[32m━━━━━━━━━━━━━━━━━━━━\u001b[0m\u001b[37m\u001b[0m \u001b[1m4s\u001b[0m 2ms/step - accuracy: 0.6900 - loss: 0.5676\n",
      "Epoch 51/100\n",
      "\u001b[1m2375/2375\u001b[0m \u001b[32m━━━━━━━━━━━━━━━━━━━━\u001b[0m\u001b[37m\u001b[0m \u001b[1m4s\u001b[0m 2ms/step - accuracy: 0.6955 - loss: 0.5554\n",
      "Epoch 52/100\n",
      "\u001b[1m2375/2375\u001b[0m \u001b[32m━━━━━━━━━━━━━━━━━━━━\u001b[0m\u001b[37m\u001b[0m \u001b[1m4s\u001b[0m 2ms/step - accuracy: 0.7000 - loss: 0.5563\n",
      "Epoch 53/100\n",
      "\u001b[1m2375/2375\u001b[0m \u001b[32m━━━━━━━━━━━━━━━━━━━━\u001b[0m\u001b[37m\u001b[0m \u001b[1m4s\u001b[0m 2ms/step - accuracy: 0.6987 - loss: 0.5539\n",
      "Epoch 54/100\n",
      "\u001b[1m2375/2375\u001b[0m \u001b[32m━━━━━━━━━━━━━━━━━━━━\u001b[0m\u001b[37m\u001b[0m \u001b[1m4s\u001b[0m 2ms/step - accuracy: 0.6998 - loss: 0.5530\n",
      "Epoch 55/100\n",
      "\u001b[1m2375/2375\u001b[0m \u001b[32m━━━━━━━━━━━━━━━━━━━━\u001b[0m\u001b[37m\u001b[0m \u001b[1m4s\u001b[0m 2ms/step - accuracy: 0.6901 - loss: 0.5669\n",
      "Epoch 56/100\n",
      "\u001b[1m2375/2375\u001b[0m \u001b[32m━━━━━━━━━━━━━━━━━━━━\u001b[0m\u001b[37m\u001b[0m \u001b[1m4s\u001b[0m 2ms/step - accuracy: 0.6984 - loss: 0.5561\n",
      "Epoch 57/100\n",
      "\u001b[1m2375/2375\u001b[0m \u001b[32m━━━━━━━━━━━━━━━━━━━━\u001b[0m\u001b[37m\u001b[0m \u001b[1m4s\u001b[0m 2ms/step - accuracy: 0.6967 - loss: 0.5568\n",
      "Epoch 58/100\n",
      "\u001b[1m2375/2375\u001b[0m \u001b[32m━━━━━━━━━━━━━━━━━━━━\u001b[0m\u001b[37m\u001b[0m \u001b[1m4s\u001b[0m 2ms/step - accuracy: 0.6934 - loss: 0.5530\n",
      "Epoch 59/100\n",
      "\u001b[1m2375/2375\u001b[0m \u001b[32m━━━━━━━━━━━━━━━━━━━━\u001b[0m\u001b[37m\u001b[0m \u001b[1m4s\u001b[0m 2ms/step - accuracy: 0.6945 - loss: 0.5522\n",
      "Epoch 60/100\n",
      "\u001b[1m2375/2375\u001b[0m \u001b[32m━━━━━━━━━━━━━━━━━━━━\u001b[0m\u001b[37m\u001b[0m \u001b[1m4s\u001b[0m 2ms/step - accuracy: 0.6966 - loss: 0.5521\n",
      "Epoch 61/100\n",
      "\u001b[1m2375/2375\u001b[0m \u001b[32m━━━━━━━━━━━━━━━━━━━━\u001b[0m\u001b[37m\u001b[0m \u001b[1m4s\u001b[0m 2ms/step - accuracy: 0.6932 - loss: 0.5555\n",
      "Epoch 62/100\n",
      "\u001b[1m2375/2375\u001b[0m \u001b[32m━━━━━━━━━━━━━━━━━━━━\u001b[0m\u001b[37m\u001b[0m \u001b[1m4s\u001b[0m 2ms/step - accuracy: 0.6925 - loss: 0.5534\n",
      "Epoch 63/100\n",
      "\u001b[1m2375/2375\u001b[0m \u001b[32m━━━━━━━━━━━━━━━━━━━━\u001b[0m\u001b[37m\u001b[0m \u001b[1m4s\u001b[0m 2ms/step - accuracy: 0.6990 - loss: 0.5493\n",
      "Epoch 64/100\n",
      "\u001b[1m2375/2375\u001b[0m \u001b[32m━━━━━━━━━━━━━━━━━━━━\u001b[0m\u001b[37m\u001b[0m \u001b[1m4s\u001b[0m 2ms/step - accuracy: 0.6914 - loss: 0.5569\n",
      "Epoch 65/100\n",
      "\u001b[1m2375/2375\u001b[0m \u001b[32m━━━━━━━━━━━━━━━━━━━━\u001b[0m\u001b[37m\u001b[0m \u001b[1m4s\u001b[0m 2ms/step - accuracy: 0.6977 - loss: 0.5439\n",
      "Epoch 66/100\n",
      "\u001b[1m2375/2375\u001b[0m \u001b[32m━━━━━━━━━━━━━━━━━━━━\u001b[0m\u001b[37m\u001b[0m \u001b[1m4s\u001b[0m 2ms/step - accuracy: 0.6894 - loss: 0.5526\n",
      "Epoch 67/100\n",
      "\u001b[1m2375/2375\u001b[0m \u001b[32m━━━━━━━━━━━━━━━━━━━━\u001b[0m\u001b[37m\u001b[0m \u001b[1m4s\u001b[0m 2ms/step - accuracy: 0.6945 - loss: 0.5481\n",
      "Epoch 68/100\n",
      "\u001b[1m2375/2375\u001b[0m \u001b[32m━━━━━━━━━━━━━━━━━━━━\u001b[0m\u001b[37m\u001b[0m \u001b[1m4s\u001b[0m 2ms/step - accuracy: 0.6925 - loss: 0.5473\n",
      "Epoch 69/100\n",
      "\u001b[1m2375/2375\u001b[0m \u001b[32m━━━━━━━━━━━━━━━━━━━━\u001b[0m\u001b[37m\u001b[0m \u001b[1m4s\u001b[0m 2ms/step - accuracy: 0.6955 - loss: 0.5497\n",
      "Epoch 70/100\n",
      "\u001b[1m2375/2375\u001b[0m \u001b[32m━━━━━━━━━━━━━━━━━━━━\u001b[0m\u001b[37m\u001b[0m \u001b[1m4s\u001b[0m 2ms/step - accuracy: 0.6928 - loss: 0.5468\n",
      "Epoch 71/100\n",
      "\u001b[1m2375/2375\u001b[0m \u001b[32m━━━━━━━━━━━━━━━━━━━━\u001b[0m\u001b[37m\u001b[0m \u001b[1m4s\u001b[0m 2ms/step - accuracy: 0.7017 - loss: 0.5355\n",
      "Epoch 72/100\n",
      "\u001b[1m2375/2375\u001b[0m \u001b[32m━━━━━━━━━━━━━━━━━━━━\u001b[0m\u001b[37m\u001b[0m \u001b[1m4s\u001b[0m 2ms/step - accuracy: 0.6959 - loss: 0.5462\n",
      "Epoch 73/100\n",
      "\u001b[1m2375/2375\u001b[0m \u001b[32m━━━━━━━━━━━━━━━━━━━━\u001b[0m\u001b[37m\u001b[0m \u001b[1m4s\u001b[0m 2ms/step - accuracy: 0.6929 - loss: 0.5479\n",
      "Epoch 74/100\n",
      "\u001b[1m2375/2375\u001b[0m \u001b[32m━━━━━━━━━━━━━━━━━━━━\u001b[0m\u001b[37m\u001b[0m \u001b[1m4s\u001b[0m 2ms/step - accuracy: 0.7014 - loss: 0.5378\n",
      "Epoch 75/100\n",
      "\u001b[1m2375/2375\u001b[0m \u001b[32m━━━━━━━━━━━━━━━━━━━━\u001b[0m\u001b[37m\u001b[0m \u001b[1m4s\u001b[0m 2ms/step - accuracy: 0.6988 - loss: 0.5411\n",
      "Epoch 76/100\n",
      "\u001b[1m2375/2375\u001b[0m \u001b[32m━━━━━━━━━━━━━━━━━━━━\u001b[0m\u001b[37m\u001b[0m \u001b[1m4s\u001b[0m 2ms/step - accuracy: 0.6967 - loss: 0.5444\n",
      "Epoch 77/100\n",
      "\u001b[1m2375/2375\u001b[0m \u001b[32m━━━━━━━━━━━━━━━━━━━━\u001b[0m\u001b[37m\u001b[0m \u001b[1m4s\u001b[0m 2ms/step - accuracy: 0.6839 - loss: 0.5531\n",
      "Epoch 78/100\n",
      "\u001b[1m2375/2375\u001b[0m \u001b[32m━━━━━━━━━━━━━━━━━━━━\u001b[0m\u001b[37m\u001b[0m \u001b[1m4s\u001b[0m 2ms/step - accuracy: 0.6964 - loss: 0.5430\n",
      "Epoch 79/100\n",
      "\u001b[1m2375/2375\u001b[0m \u001b[32m━━━━━━━━━━━━━━━━━━━━\u001b[0m\u001b[37m\u001b[0m \u001b[1m4s\u001b[0m 2ms/step - accuracy: 0.6919 - loss: 0.5516\n",
      "Epoch 80/100\n",
      "\u001b[1m2375/2375\u001b[0m \u001b[32m━━━━━━━━━━━━━━━━━━━━\u001b[0m\u001b[37m\u001b[0m \u001b[1m4s\u001b[0m 2ms/step - accuracy: 0.6984 - loss: 0.5464\n",
      "Epoch 81/100\n",
      "\u001b[1m2375/2375\u001b[0m \u001b[32m━━━━━━━━━━━━━━━━━━━━\u001b[0m\u001b[37m\u001b[0m \u001b[1m4s\u001b[0m 2ms/step - accuracy: 0.6981 - loss: 0.5407\n",
      "Epoch 82/100\n",
      "\u001b[1m2375/2375\u001b[0m \u001b[32m━━━━━━━━━━━━━━━━━━━━\u001b[0m\u001b[37m\u001b[0m \u001b[1m4s\u001b[0m 2ms/step - accuracy: 0.7033 - loss: 0.5383\n",
      "Epoch 83/100\n",
      "\u001b[1m2375/2375\u001b[0m \u001b[32m━━━━━━━━━━━━━━━━━━━━\u001b[0m\u001b[37m\u001b[0m \u001b[1m4s\u001b[0m 2ms/step - accuracy: 0.6962 - loss: 0.5488\n",
      "Epoch 84/100\n",
      "\u001b[1m2375/2375\u001b[0m \u001b[32m━━━━━━━━━━━━━━━━━━━━\u001b[0m\u001b[37m\u001b[0m \u001b[1m4s\u001b[0m 2ms/step - accuracy: 0.7019 - loss: 0.5389\n",
      "Epoch 85/100\n",
      "\u001b[1m2375/2375\u001b[0m \u001b[32m━━━━━━━━━━━━━━━━━━━━\u001b[0m\u001b[37m\u001b[0m \u001b[1m4s\u001b[0m 2ms/step - accuracy: 0.6950 - loss: 0.5456\n",
      "Epoch 86/100\n",
      "\u001b[1m2375/2375\u001b[0m \u001b[32m━━━━━━━━━━━━━━━━━━━━\u001b[0m\u001b[37m\u001b[0m \u001b[1m4s\u001b[0m 2ms/step - accuracy: 0.7056 - loss: 0.5354\n",
      "Epoch 87/100\n",
      "\u001b[1m2375/2375\u001b[0m \u001b[32m━━━━━━━━━━━━━━━━━━━━\u001b[0m\u001b[37m\u001b[0m \u001b[1m4s\u001b[0m 2ms/step - accuracy: 0.6991 - loss: 0.5410\n",
      "Epoch 88/100\n",
      "\u001b[1m2375/2375\u001b[0m \u001b[32m━━━━━━━━━━━━━━━━━━━━\u001b[0m\u001b[37m\u001b[0m \u001b[1m4s\u001b[0m 2ms/step - accuracy: 0.6980 - loss: 0.5362\n",
      "Epoch 89/100\n",
      "\u001b[1m2375/2375\u001b[0m \u001b[32m━━━━━━━━━━━━━━━━━━━━\u001b[0m\u001b[37m\u001b[0m \u001b[1m4s\u001b[0m 2ms/step - accuracy: 0.7030 - loss: 0.5384\n",
      "Epoch 90/100\n",
      "\u001b[1m2375/2375\u001b[0m \u001b[32m━━━━━━━━━━━━━━━━━━━━\u001b[0m\u001b[37m\u001b[0m \u001b[1m4s\u001b[0m 2ms/step - accuracy: 0.7025 - loss: 0.5377\n",
      "Epoch 91/100\n",
      "\u001b[1m2375/2375\u001b[0m \u001b[32m━━━━━━━━━━━━━━━━━━━━\u001b[0m\u001b[37m\u001b[0m \u001b[1m4s\u001b[0m 2ms/step - accuracy: 0.6961 - loss: 0.5442\n",
      "Epoch 92/100\n",
      "\u001b[1m2375/2375\u001b[0m \u001b[32m━━━━━━━━━━━━━━━━━━━━\u001b[0m\u001b[37m\u001b[0m \u001b[1m4s\u001b[0m 2ms/step - accuracy: 0.6984 - loss: 0.5395\n",
      "Epoch 93/100\n",
      "\u001b[1m2375/2375\u001b[0m \u001b[32m━━━━━━━━━━━━━━━━━━━━\u001b[0m\u001b[37m\u001b[0m \u001b[1m4s\u001b[0m 2ms/step - accuracy: 0.7046 - loss: 0.5340\n",
      "Epoch 94/100\n",
      "\u001b[1m2375/2375\u001b[0m \u001b[32m━━━━━━━━━━━━━━━━━━━━\u001b[0m\u001b[37m\u001b[0m \u001b[1m4s\u001b[0m 2ms/step - accuracy: 0.6954 - loss: 0.5383\n",
      "Epoch 95/100\n",
      "\u001b[1m2375/2375\u001b[0m \u001b[32m━━━━━━━━━━━━━━━━━━━━\u001b[0m\u001b[37m\u001b[0m \u001b[1m4s\u001b[0m 2ms/step - accuracy: 0.7027 - loss: 0.5322\n",
      "Epoch 96/100\n",
      "\u001b[1m2375/2375\u001b[0m \u001b[32m━━━━━━━━━━━━━━━━━━━━\u001b[0m\u001b[37m\u001b[0m \u001b[1m4s\u001b[0m 2ms/step - accuracy: 0.6976 - loss: 0.5395\n",
      "Epoch 97/100\n",
      "\u001b[1m2375/2375\u001b[0m \u001b[32m━━━━━━━━━━━━━━━━━━━━\u001b[0m\u001b[37m\u001b[0m \u001b[1m4s\u001b[0m 2ms/step - accuracy: 0.6953 - loss: 0.5387\n",
      "Epoch 98/100\n",
      "\u001b[1m2375/2375\u001b[0m \u001b[32m━━━━━━━━━━━━━━━━━━━━\u001b[0m\u001b[37m\u001b[0m \u001b[1m4s\u001b[0m 2ms/step - accuracy: 0.7006 - loss: 0.5350\n",
      "Epoch 99/100\n",
      "\u001b[1m2375/2375\u001b[0m \u001b[32m━━━━━━━━━━━━━━━━━━━━\u001b[0m\u001b[37m\u001b[0m \u001b[1m4s\u001b[0m 2ms/step - accuracy: 0.7004 - loss: 0.5342\n",
      "Epoch 100/100\n",
      "\u001b[1m2375/2375\u001b[0m \u001b[32m━━━━━━━━━━━━━━━━━━━━\u001b[0m\u001b[37m\u001b[0m \u001b[1m4s\u001b[0m 2ms/step - accuracy: 0.6993 - loss: 0.5403\n"
     ]
    },
    {
     "data": {
      "text/plain": [
       "<keras.src.callbacks.history.History at 0x7cdc50dc62c0>"
      ]
     },
     "execution_count": 19,
     "metadata": {},
     "output_type": "execute_result"
    }
   ],
   "source": [
    "# Train the model without show_metric\n",
    "model.fit(train_x, train_y, epochs=100, batch_size=8)"
   ]
  },
  {
   "cell_type": "code",
   "execution_count": 22,
   "metadata": {
    "execution": {
     "iopub.execute_input": "2025-03-26T06:07:18.642495Z",
     "iopub.status.busy": "2025-03-26T06:07:18.642205Z",
     "iopub.status.idle": "2025-03-26T06:07:22.139492Z",
     "shell.execute_reply": "2025-03-26T06:07:22.138558Z",
     "shell.execute_reply.started": "2025-03-26T06:07:18.642471Z"
    },
    "trusted": true
   },
   "outputs": [],
   "source": [
    "# Save the model\n",
    "model.save('chatbot_model.h5')\n",
    "\n",
    "# Save the training data\n",
    "import pickle\n",
    "pickle.dump({'words': words, 'classes': classes, 'train_x': train_x, 'train_y': train_y}, open('training_data.pkl', 'wb'))"
   ]
  },
  {
   "cell_type": "code",
   "execution_count": 25,
   "metadata": {
    "execution": {
     "iopub.execute_input": "2025-03-26T06:07:43.136470Z",
     "iopub.status.busy": "2025-03-26T06:07:43.136157Z",
     "iopub.status.idle": "2025-03-26T06:07:44.243331Z",
     "shell.execute_reply": "2025-03-26T06:07:44.242665Z",
     "shell.execute_reply.started": "2025-03-26T06:07:43.136443Z"
    },
    "trusted": true
   },
   "outputs": [],
   "source": [
    "# Load the training data and model\n",
    "data = pickle.load(open('training_data.pkl', 'rb'))\n",
    "words = data['words']\n",
    "classes = data['classes']\n",
    "train_x = data['train_x']\n",
    "train_y = data['train_y']\n",
    "\n",
    "# Load the trained model\n",
    "from tensorflow.keras.models import load_model\n",
    "model = load_model('chatbot_model.h5')\n"
   ]
  },
  {
   "cell_type": "code",
   "execution_count": 47,
   "metadata": {
    "execution": {
     "iopub.execute_input": "2025-03-26T06:20:08.804356Z",
     "iopub.status.busy": "2025-03-26T06:20:08.804052Z",
     "iopub.status.idle": "2025-03-26T06:20:08.811317Z",
     "shell.execute_reply": "2025-03-26T06:20:08.810506Z",
     "shell.execute_reply.started": "2025-03-26T06:20:08.804330Z"
    },
    "trusted": true
   },
   "outputs": [],
   "source": [
    "# Function to clean up sentences\n",
    "def clean_up_sentence(sentence):\n",
    "    sentence_words = nltk.word_tokenize(sentence)\n",
    "    sentence_words = [stemmer.stem(word.lower()) for word in sentence_words]\n",
    "    return sentence_words\n",
    "\n",
    "# Function to convert sentence to bag of words\n",
    "def bow(sentence, words):\n",
    "    sentence_words = clean_up_sentence(sentence)\n",
    "    bag = [0] * len(words)\n",
    "    for s in sentence_words:\n",
    "        for i, w in enumerate(words):\n",
    "            if w == s:\n",
    "                bag[i] = 1\n",
    "    return np.array(bag)\n",
    "\n",
    "# Function to classify the sentence\n",
    "def classify(sentence):\n",
    "    bow_input = bow(sentence, words)  # Bag of words vector\n",
    "    results = model.predict(np.array([bow_input]))[0]  # Pass the input as a 2D array\n",
    "    results = [[i, r] for i, r in enumerate(results) if r > 0.25]  # Filter results with probability greater than 0.25\n",
    "    results.sort(key=lambda x: x[1], reverse=True)\n",
    "    return_list = []\n",
    "    for r in results:\n",
    "        return_list.append((classes[r[0]], r[1]))\n",
    "    return return_list\n",
    "\n",
    "\n",
    "# Function to get the response from the chatbot\n",
    "def response(sentence):\n",
    "    results = classify(sentence)\n",
    "    if results:\n",
    "        for i in intents['intents']:\n",
    "            if i['tag'] == results[0][0]:\n",
    "                return random.choice(i['responses'])\n",
    "\n"
   ]
  },
  {
   "cell_type": "code",
   "execution_count": 62,
   "metadata": {
    "execution": {
     "iopub.execute_input": "2025-03-26T06:27:35.596600Z",
     "iopub.status.busy": "2025-03-26T06:27:35.596296Z",
     "iopub.status.idle": "2025-03-26T06:27:35.729224Z",
     "shell.execute_reply": "2025-03-26T06:27:35.728557Z",
     "shell.execute_reply.started": "2025-03-26T06:27:35.596567Z"
    },
    "trusted": true
   },
   "outputs": [
    {
     "name": "stdout",
     "output_type": "stream",
     "text": [
      "\u001b[1m1/1\u001b[0m \u001b[32m━━━━━━━━━━━━━━━━━━━━\u001b[0m\u001b[37m\u001b[0m \u001b[1m0s\u001b[0m 16ms/step\n",
      "travel by air:\n",
      "\u001b[1m1/1\u001b[0m \u001b[32m━━━━━━━━━━━━━━━━━━━━\u001b[0m\u001b[37m\u001b[0m \u001b[1m0s\u001b[0m 17ms/step\n",
      "Annette's scared of flying.\n"
     ]
    }
   ],
   "source": [
    "# Test the chatbot\n",
    "print(response(\"Can you explain fly?\"))\n",
    "print(response(\"Can you give me examples of fly?\"))"
   ]
  }
 ],
 "metadata": {
  "kaggle": {
   "accelerator": "nvidiaTeslaT4",
   "dataSources": [
    {
     "datasetId": 6965221,
     "sourceId": 11162249,
     "sourceType": "datasetVersion"
    },
    {
     "datasetId": 6969733,
     "sourceId": 11168632,
     "sourceType": "datasetVersion"
    }
   ],
   "dockerImageVersionId": 30919,
   "isGpuEnabled": true,
   "isInternetEnabled": true,
   "language": "python",
   "sourceType": "notebook"
  },
  "kernelspec": {
   "display_name": "Python 3",
   "language": "python",
   "name": "python3"
  },
  "language_info": {
   "codemirror_mode": {
    "name": "ipython",
    "version": 3
   },
   "file_extension": ".py",
   "mimetype": "text/x-python",
   "name": "python",
   "nbconvert_exporter": "python",
   "pygments_lexer": "ipython3",
   "version": "3.10.12"
  }
 },
 "nbformat": 4,
 "nbformat_minor": 4
}
